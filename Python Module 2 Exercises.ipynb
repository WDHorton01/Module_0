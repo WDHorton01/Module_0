{
 "cells": [
  {
   "cell_type": "markdown",
   "metadata": {},
   "source": [
    "1. Print out a data type of a variable?"
   ]
  },
  {
   "cell_type": "code",
   "execution_count": 3,
   "metadata": {},
   "outputs": [
    {
     "data": {
      "text/plain": [
       "str"
      ]
     },
     "execution_count": 3,
     "metadata": {},
     "output_type": "execute_result"
    }
   ],
   "source": [
    "x = '123'\n",
    "type(x) "
   ]
  },
  {
   "cell_type": "markdown",
   "metadata": {},
   "source": [
    "2. Round 4.5667 to the nearest hundreth using a build-in function, round()."
   ]
  },
  {
   "cell_type": "code",
   "execution_count": 5,
   "metadata": {},
   "outputs": [
    {
     "data": {
      "text/plain": [
       "4.57"
      ]
     },
     "execution_count": 5,
     "metadata": {},
     "output_type": "execute_result"
    }
   ],
   "source": [
    "x = 4.5667\n",
    "round(x, 2)"
   ]
  },
  {
   "cell_type": "markdown",
   "metadata": {},
   "source": [
    "3. Convert \"657\" to an integer data type"
   ]
  },
  {
   "cell_type": "code",
   "execution_count": 6,
   "metadata": {},
   "outputs": [
    {
     "data": {
      "text/plain": [
       "657"
      ]
     },
     "execution_count": 6,
     "metadata": {},
     "output_type": "execute_result"
    }
   ],
   "source": [
    "string = \"657\"\n",
    "int(string)"
   ]
  },
  {
   "cell_type": "markdown",
   "metadata": {},
   "source": [
    "4. Write a function to calculate the miles per gallon.\n",
    "Get a miles driven and gallons used from a user and call your function to calculate the miles per gallon. "
   ]
  },
  {
   "cell_type": "code",
   "execution_count": 20,
   "metadata": {},
   "outputs": [
    {
     "name": "stdout",
     "output_type": "stream",
     "text": [
      "please enter the number of miles driven: 12\n",
      "please enter the number of gallons uesd: 1\n",
      "your MPG is 12.0\n"
     ]
    }
   ],
   "source": [
    "def m_p_g():\n",
    "    mi = int(input(\"please enter the number of miles driven: \"))\n",
    "    ga = int(input(\"please enter the number of gallons uesd: \")) \n",
    "    mpg = mi/ga\n",
    "    print(f\"your MPG is {mpg}\")\n",
    "\n",
    "m_p_g()"
   ]
  },
  {
   "cell_type": "markdown",
   "metadata": {},
   "source": [
    "5. Enhance your function from exercise 3. Additionally, get a gas price per gallon from a user and write a program to compute the total gas cost and cost per mile. \n",
    "\n",
    "The output should look something like this:\n",
    "\n",
    "    Enter miles driven:            150\n",
    "    Enter gallons of gas used:     15\n",
    "    Enter cost per gallon:          3\n",
    "\n",
    "    Miles Per Gallon:   10.0\n",
    "    Total Gas Cost:     45.0\n",
    "    Cost per Mile:      0.3\n"
   ]
  },
  {
   "cell_type": "code",
   "execution_count": 27,
   "metadata": {},
   "outputs": [
    {
     "name": "stdout",
     "output_type": "stream",
     "text": [
      "please enter the number of miles driven: 154\n",
      "please enter the number of gallons uesd: 13\n",
      "please enter the cost per gallon: 2\n",
      "your MPG is: 11.85\n",
      "total gas cost: 26\n",
      "cost per mile: 0.17\n"
     ]
    }
   ],
   "source": [
    "def m_p_g():\n",
    "    mi = int(input(\"please enter the number of miles driven: \"))\n",
    "    ga = int(input(\"please enter the number of gallons uesd: \")) \n",
    "    ppg = int(input(\"please enter the cost per gallon: \"))\n",
    "    mpg = mi/ga\n",
    "    print(f\"your MPG is: {round(mpg, 2)}\")\n",
    "    total_cost = ga * ppg\n",
    "    print(f\"total gas cost: {round(total_cost, 2)}\")\n",
    "    cpm = total_cost / mi\n",
    "    print(f\"cost per mile: {round(cpm, 2)}\")\n",
    "\n",
    "m_p_g()"
   ]
  },
  {
   "cell_type": "markdown",
   "metadata": {},
   "source": [
    "6. Write a function called multiply_two() that accepts two parameters. The function should print a message like '15 + 2 = 17'.  Randomly generate two numbers between 1 and 100, then call the function with the two random numbers."
   ]
  },
  {
   "cell_type": "code",
   "execution_count": 33,
   "metadata": {},
   "outputs": [
    {
     "name": "stdout",
     "output_type": "stream",
     "text": [
      "97 + 32 = 129\n"
     ]
    }
   ],
   "source": [
    "import random as rand\n",
    "def multiply_two(x, y):\n",
    "    total = x + y\n",
    "    print(f\"{x} + {y} = {total}\")\n",
    "x = rand.randint(1,100)\n",
    "y = rand.randint(1,100)\n",
    "multiply_two(x, y)"
   ]
  },
  {
   "cell_type": "markdown",
   "metadata": {},
   "source": [
    "7. Write a function called make_shirt() that accepts a size and the text of a message. The function should print a sentence summarizing the size of the shirt and the message printed on it. The default shirt size is large and default message is 'I love Python!' Make a default size shirt with a message, a medium shirt with the default message, and a shirt of any size with a different message."
   ]
  },
  {
   "cell_type": "code",
   "execution_count": 36,
   "metadata": {},
   "outputs": [
    {
     "name": "stdout",
     "output_type": "stream",
     "text": [
      "enter your shirt size: L\n",
      "enter your message: Hoedy\n",
      "the default size of your shirt is L\n",
      "the default mesage isHoedy\n"
     ]
    }
   ],
   "source": [
    "def make_shirt():\n",
    "    size=\"L\"\n",
    "    message=\"I love Python!\"\n",
    "    print(f\"the default size of your shirt is: {size}\")\n",
    "    print (f\"the default mesage is: {message}\")\n",
    "    size=\"M\"\n",
    "    message=\"I love Medium!\"\n",
    "    print(f\"the default size of your shirt is: {size}\")\n",
    "    print (f\"the default mesage is: {message}\")\n",
    "    size=\"Any\"\n",
    "    message=\"I love any size!\"\n",
    "    print(f\"the default size of your shirt is: {size}\")\n",
    "    print (f\"the default mesage is: {message}\")\n",
    "    size = input(\"enter your shirt size: \")\n",
    "    message = input(\"enter your message: \")\n",
    "    print(f\"the size of your shirt is: {size}\")\n",
    "    print (f\"your mesage is: {message}\")\n",
    "make_shirt()"
   ]
  },
  {
   "cell_type": "markdown",
   "metadata": {},
   "source": [
    "8. Create a function for a multiplication table.  Get a number from a user and then call you function which produces a multiplication table for that number.\n",
    "The output should look something like this:\n",
    "\n",
    "        Enter a number: 3\n",
    "        3 X 1 = 3\n",
    "        3 X 2 = 6\n",
    "        3 X 3 = 9\n",
    "        3 X 4 = 12\n",
    "        3 X 5 = 15\n",
    "        3 X 6 = 18\n",
    "        3 X 7 = 21\n",
    "        3 X 8 = 24\n",
    "        3 X 9 = 27\n",
    "        "
   ]
  },
  {
   "cell_type": "code",
   "execution_count": 38,
   "metadata": {},
   "outputs": [
    {
     "name": "stdout",
     "output_type": "stream",
     "text": [
      "enter a number: 3\n",
      "3 X 1 = 3\n",
      "3 X 2 = 6\n",
      "3 X 3 = 9\n",
      "3 X 4 = 12\n",
      "3 X 5 = 15\n",
      "3 X 6 = 18\n",
      "3 X 7 = 21\n",
      "3 X 8 = 24\n",
      "3 X 9 = 27\n"
     ]
    }
   ],
   "source": [
    "def table(number):\n",
    "    total = number * 1\n",
    "    print(f\"{number} X 1 = {total}\")\n",
    "    total = number * 2\n",
    "    print(f\"{number} X 2 = {total}\")\n",
    "    total = number * 3\n",
    "    print(f\"{number} X 3 = {total}\")\n",
    "    total = number * 4\n",
    "    print(f\"{number} X 4 = {total}\")\n",
    "    total = number * 5\n",
    "    print(f\"{number} X 5 = {total}\")\n",
    "    total = number * 6\n",
    "    print(f\"{number} X 6 = {total}\")\n",
    "    total = number * 7\n",
    "    print(f\"{number} X 7 = {total}\")\n",
    "    total = number * 8\n",
    "    print(f\"{number} X 8 = {total}\")\n",
    "    total = number * 9\n",
    "    print(f\"{number} X 9 = {total}\")\n",
    "number = int(input(\"enter a number: \"))\n",
    "table(number)"
   ]
  },
  {
   "cell_type": "markdown",
   "metadata": {},
   "source": [
    "9. Write a function that accepts a string and returns a string that is \n",
    "    - without any leading nor trailing blanks\n",
    "    - converts to all capital letters\n",
    "    - and replaces all blanks with a period(.).  \n",
    "\n",
    "Write a program to accept a string from a user then call your function and display the original string and changed string.  \n",
    "\n",
    "The output should look something like this:\n",
    "\n",
    "        Enter a text: may your dreams come true\n",
    "        \n",
    "        Original Text: may your dreams come true\n",
    "        New Text: MAY.YOUR.DREAMS.COME.TRUE"
   ]
  },
  {
   "cell_type": "code",
   "execution_count": 40,
   "metadata": {},
   "outputs": [
    {
     "name": "stdout",
     "output_type": "stream",
     "text": [
      "input your message: may your dreams come true\n",
      "may your dreams come true\n"
     ]
    }
   ],
   "source": [
    "def change(message):\n",
    "    message.strip()\n",
    "    message.upper()\n",
    "    message.replace(\" \", \".\")\n",
    "    return message\n",
    "message = input(\"input your message: \")\n",
    "change(message)\n",
    "print(message)"
   ]
  },
  {
   "cell_type": "markdown",
   "metadata": {},
   "source": [
    "10. Write a function that returns a randomly selected character from a passed string. Write a program to accept a string from a user then call your function and display the original string and selected character.\n",
    "\n",
    "The output should look something like this:\n",
    "\n",
    "        Enter a text: functions\n",
    "        Original Text:\tfunctions\n",
    "        Random character:\ts"
   ]
  },
  {
   "cell_type": "code",
   "execution_count": null,
   "metadata": {},
   "outputs": [],
   "source": [
    "def ran_char(message):\n",
    "    cont = message.count()\n",
    "    rand_om = rand.randint(0, count-1)\n",
    "    print(message[rand_om])\n",
    "message = input(\"enter a message: \")\n",
    "print(f\"Origonal text: {message}\")\n",
    "print(f\"Random character: {ran_char(message)}\")"
   ]
  }
 ],
 "metadata": {
  "kernelspec": {
   "display_name": "Python 3",
   "language": "python",
   "name": "python3"
  },
  "language_info": {
   "codemirror_mode": {
    "name": "ipython",
    "version": 3
   },
   "file_extension": ".py",
   "mimetype": "text/x-python",
   "name": "python",
   "nbconvert_exporter": "python",
   "pygments_lexer": "ipython3",
   "version": "3.8.8"
  }
 },
 "nbformat": 4,
 "nbformat_minor": 4
}
