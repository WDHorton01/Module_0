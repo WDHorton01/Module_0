{
 "cells": [
  {
   "cell_type": "markdown",
   "metadata": {},
   "source": [
    "Exercise 1. Ask for a color and store that answer. \n",
    "If the answer is grey then print out you found Victor's favorite color.\n",
    "Otherwise print out the color is not Victor's favorite color."
   ]
  },
  {
   "cell_type": "code",
   "execution_count": 8,
   "metadata": {},
   "outputs": [
    {
     "name": "stdout",
     "output_type": "stream",
     "text": [
      "Please enter a color: grey\n",
      "You found Victor's favorite color!\n"
     ]
    }
   ],
   "source": [
    "def what_color():\n",
    "    color_choice = input(\"Please enter a color: \")\n",
    "    if (color_choice == \"grey\" or color_choice == \"Grey\"):\n",
    "        print(\"You found Victor's favorite color!\")\n",
    "    else:\n",
    "        print(\"the color is not Victor's favorite color.\")\n",
    "        what_color()\n",
    "        \n",
    "\n",
    "what_color()"
   ]
  },
  {
   "cell_type": "markdown",
   "metadata": {},
   "source": [
    "Exercise 2. Modify code from above exercise 1 and add in more conditions for other colors such as red, green, blue and then, write statements for them. "
   ]
  },
  {
   "cell_type": "code",
   "execution_count": 10,
   "metadata": {},
   "outputs": [
    {
     "name": "stdout",
     "output_type": "stream",
     "text": [
      "Please enter a color: blue\n",
      "green as evergreens.\n"
     ]
    }
   ],
   "source": [
    "def what_color():\n",
    "    color_choice = input(\"Please enter a color: \")\n",
    "    if (color_choice == \"grey\" or color_choice == \"Grey\"):\n",
    "        print(\"You found Victor's favorite color!\")\n",
    "    elif (color_choice == \"green\" or \"Green\" or \"blue\" or \"Blue\" or \"red\" or \"Red\"):\n",
    "        print(\"close but not quite.\")\n",
    "        what_color()\n",
    "    else:\n",
    "        print(\"the color is not Victor's favorite color.\")\n",
    "        what_color()\n",
    "        \n",
    "what_color()"
   ]
  },
  {
   "cell_type": "markdown",
   "metadata": {},
   "source": [
    "Exercise 3. Ask for an exam score and store that number. If the number is greater than 100, then print out 'You cannot have an exam score higher than 100'. If the number doesn't exceeed 100 but is greater than or equal to 75, then print out 'You did great on your exam!'. Otherwise if they scored lower than 75, then print out 'You need to study harder'."
   ]
  },
  {
   "cell_type": "code",
   "execution_count": 17,
   "metadata": {},
   "outputs": [
    {
     "name": "stdout",
     "output_type": "stream",
     "text": [
      "Enter a exam score: 45.7\n",
      "you need to study harder.\n"
     ]
    }
   ],
   "source": [
    "score = float(input(\"Enter a exam score: \"))\n",
    "\n",
    "if (score < 0 or score > 100):\n",
    "    print(\"You cannot have an exam score higher than 100 or lower than 0.\")\n",
    "elif (score >= 75):\n",
    "    print(\"you did great on your exam!\")\n",
    "else:\n",
    "    print(\"you need to study harder.\")"
   ]
  },
  {
   "cell_type": "markdown",
   "metadata": {},
   "source": [
    "Exercise 4. \n",
    "Define two functions: \n",
    "    - a function that takes 3 arguements and returns the sum of three arguements\n",
    "    - a function that takes 2 arguements and returns the result of 1st arguement multiplied by 2nd arguement\n",
    "\n",
    "Then tell the user to choose option 1 to add three numbers or option 2 to multiply two numbers.\n",
    "If the user choose option 1 then call the addition function, otherwise if they choose option 2 then call the mulitplication function.  If the user choose anything other than option 1 or 2, then generate a friendly error messsage"
   ]
  },
  {
   "cell_type": "code",
   "execution_count": 44,
   "metadata": {},
   "outputs": [
    {
     "name": "stdout",
     "output_type": "stream",
     "text": [
      "If you want to find the sum of 3 numbers type '1' if you want to find the product of 2 numbers type '2': 2\n",
      "enter the first number: 2\n",
      "enter the second number: 2\n",
      "The product of 2 * 2 is 4\n"
     ]
    }
   ],
   "source": [
    "def sum_of(x, y, z):\n",
    "    total = x+y+z\n",
    "    return total\n",
    "def product_of(a, b):\n",
    "    total = a*b\n",
    "    return total\n",
    "\n",
    "choice = input(\"If you want to find the sum of 3 numbers type '1' if you want to find the product of 2 numbers type '2': \")\n",
    "if choice == \"1\":\n",
    "    x = int(input(\"enter the first number: \"))\n",
    "    y = int(input(\"enter the second number: \"))\n",
    "    z = int(input(\"enter the third number: \"))\n",
    "    print(f\"The sum of {x} + {y} + {z} is {sum_of(x,y,z)}\")\n",
    "elif choice == \"2\":\n",
    "    a = int(input(\"enter the first number: \"))\n",
    "    b = int(input(\"enter the second number: \"))\n",
    "    print(f\"The product of {a} * {b} is {product_of(a,b)}\")\n",
    "else:\n",
    "    print(\"ERROR that is an invalid choice\")"
   ]
  },
  {
   "cell_type": "markdown",
   "metadata": {},
   "source": [
    "Exercise 5. \n",
    "Write a function to convert a test score to a grade where  \n",
    " - 90 - 100: A\n",
    " - 80 - 89:  B\n",
    " - 70 - 79:  C\n",
    " - 60 - 69:  D\n",
    " - < 60   :  F\n",
    " \n",
    "If a score is not between 0 and 100 then print out an error message. In the program, ask the user for a score and then call your function. "
   ]
  },
  {
   "cell_type": "code",
   "execution_count": 36,
   "metadata": {},
   "outputs": [
    {
     "name": "stdout",
     "output_type": "stream",
     "text": [
      "enter a grade: 100\n",
      "your letter grade is: A\n"
     ]
    }
   ],
   "source": [
    "def grade_convert():\n",
    "    number_grade = float(input(\"enter a grade: \"))\n",
    "    letter_grade = \"A\"\n",
    "    if (number_grade <= 100 and number_grade >= 90):\n",
    "        letter_grade = \"A\"\n",
    "        print(f\"your letter grade is: {letter_grade}\")\n",
    "    elif(number_grade <=89):\n",
    "        letter_grade = \"B\"\n",
    "        print(f\"your letter grade is: {letter_grade}\")\n",
    "    elif(number_grade <=79):\n",
    "        letter_grade = \"C\"\n",
    "        print(f\"your letter grade is: {letter_grade}\")\n",
    "    elif(number_grade <=69):\n",
    "        letter_grade = \"D\"\n",
    "        print(f\"your letter grade is: {letter_grade}\")\n",
    "    elif(number_grade <=60 and number_grade >=0):\n",
    "        letter_grade = \"F\"\n",
    "        print(f\"your letter grade is: {letter_grade}\")\n",
    "    else:\n",
    "        print(\"ERROR: Invalid input\")\n",
    "        grade_convert()\n",
    "grade_convert()"
   ]
  },
  {
   "cell_type": "markdown",
   "metadata": {},
   "source": [
    "Exercise 6. Write a program to compute discounts for customers.  \n",
    "- For retail customers, \n",
    "    - if invoice total is greater than \\$100 then discount rate is 10\\%, otherwise no discount \n",
    "\n",
    "- For wholesale customers,\n",
    "    - if invoice total is greater than \\$500 then discount rate is 30\\%, otherwise discount rate is 20\\%\n",
    "    \n",
    "Get the type of customer and the invoice total from the user."
   ]
  },
  {
   "cell_type": "code",
   "execution_count": 78,
   "metadata": {},
   "outputs": [
    {
     "name": "stdout",
     "output_type": "stream",
     "text": [
      "What is the type of customer *either retail or wholesale*: wholesale\n",
      "What is the Invoice total: 600\n",
      "your total is 420.0\n"
     ]
    }
   ],
   "source": [
    "customer_type = input(\"What is the type of customer *either retail or wholesale*: \")\n",
    "invoice_total = float(input(\"What is the Invoice total: \"))\n",
    "if(customer_type == \"retail\" or customer_type == \"Retail\"):\n",
    "    if(invoice_total > 100):\n",
    "        invoice_total = invoice_total -(invoice_total*0.1)\n",
    "        print(f\"your total is {invoice_total}\")\n",
    "    else:\n",
    "        print(f\"your total is {invoice_total}\")\n",
    "elif(customer_type == \"wholesale\" or customer_type == \"Wholesale\"):\n",
    "    if(invoice_total > 500):\n",
    "        invoice_total = invoice_total -(invoice_total*0.3)\n",
    "        print(f\"your total is {invoice_total}\")\n",
    "    else:\n",
    "        invoice_total = invoice_total -(invoice_total*0.2)\n",
    "        print(f\"your total is {invoice_total}\")\n",
    "else:\n",
    "    print(\"ERROR: invalid customer type\")"
   ]
  },
  {
   "cell_type": "markdown",
   "metadata": {},
   "source": [
    "Exercise 7: Write a function that accepts two parameters (a and b) and returns a result of a/b.  In this function, try to catch any exception error.  Then, write a program to get two numbers from a user, call your function using these two numbers, and print out the result in a friendly format.  All input and print statements must be done in the main program. Repeat the process until user wants to quit the program. "
   ]
  },
  {
   "cell_type": "code",
   "execution_count": 81,
   "metadata": {},
   "outputs": [
    {
     "ename": "SyntaxError",
     "evalue": "invalid syntax (<ipython-input-81-82a0da892ff7>, line 13)",
     "output_type": "error",
     "traceback": [
      "\u001b[1;36m  File \u001b[1;32m\"<ipython-input-81-82a0da892ff7>\"\u001b[1;36m, line \u001b[1;32m13\u001b[0m\n\u001b[1;33m    if(divide(x,y) = 'false')\u001b[0m\n\u001b[1;37m                   ^\u001b[0m\n\u001b[1;31mSyntaxError\u001b[0m\u001b[1;31m:\u001b[0m invalid syntax\n"
     ]
    }
   ],
   "source": [
    "import sys\n",
    "msg = \"none\"\n",
    "def divide (x,y):\n",
    "    try:\n",
    "        total = x/y\n",
    "    except:\n",
    "        print(f\"\\nERROR:\", sys.exc_info()[0],\"ocurred.\")\n",
    "        \n",
    "    return total\n",
    "i = int(0)\n",
    "while i == 0:\n",
    "    x = int(input(\"Enter the first number: \"))\n",
    "    y = int(input(\"Enter the second number: \"))\n",
    "    result = division(x,y)\n",
    "    print(f\"\\n\\n{x}/{y} = {result}\")\n",
    "    \n",
    "    i = input(\"Do you want to try again? type 1 to quit type 0 to quit\")\n",
    "    "
   ]
  },
  {
   "cell_type": "code",
   "execution_count": null,
   "metadata": {},
   "outputs": [],
   "source": []
  },
  {
   "cell_type": "markdown",
   "metadata": {},
   "source": [
    "Exercise 8: Write a function to generate a multiplication table. Then write a program to ask a user if user wants to generate a  mutiplication table for a random number or provide a number. The program should continue to run until a user wants to quit."
   ]
  },
  {
   "cell_type": "code",
   "execution_count": 83,
   "metadata": {},
   "outputs": [
    {
     "name": "stdout",
     "output_type": "stream",
     "text": [
      "this program generates a miltiplication table based on user input or random number\n",
      "Type '1' if you want to provide a number or type '2' if you want to randomly generate a number. type '3' to quit: 1\n",
      "enter a number: 1\n",
      "1 X 1 = 1\n",
      "1 X 2 = 2\n",
      "1 X 3 = 3\n",
      "1 X 4 = 4\n",
      "1 X 5 = 5\n",
      "1 X 6 = 6\n",
      "1 X 7 = 7\n",
      "1 X 8 = 8\n",
      "1 X 9 = 9\n",
      "1 X 10 = 10\n",
      "Type '1' if you want to provide a number or type '2' if you want to randomly generate a number. type '3' to quit: 2\n",
      "6 X 1 = 6\n",
      "6 X 2 = 12\n",
      "6 X 3 = 18\n",
      "6 X 4 = 24\n",
      "6 X 5 = 30\n",
      "6 X 6 = 36\n",
      "6 X 7 = 42\n",
      "6 X 8 = 48\n",
      "6 X 9 = 54\n",
      "6 X 10 = 60\n",
      "Type '1' if you want to provide a number or type '2' if you want to randomly generate a number. type '3' to quit: 3\n"
     ]
    }
   ],
   "source": [
    "def multi_table(x,i):\n",
    "    while(i < 11):\n",
    "            print(f\"{table} X {i} = {table*i}\")\n",
    "            i += 1\n",
    "\n",
    "import random as rand\n",
    "print(\"this program generates a miltiplication table based on user input or random number\")\n",
    "choice = 0\n",
    "while (choice < 3):\n",
    "    i = int(1)\n",
    "    choice = int(input(\"Type '1' if you want to provide a number or type '2' if you want to randomly generate a number. type '3' to quit: \"))\n",
    "    if (choice == 1):\n",
    "        table = int(input(\"enter a number: \"))\n",
    "        multi_table(table, i)\n",
    "    elif (choice == 2):\n",
    "        table = rand.randint(1, 10)\n",
    "        multi_table(table, i)"
   ]
  },
  {
   "cell_type": "code",
   "execution_count": null,
   "metadata": {},
   "outputs": [],
   "source": []
  },
  {
   "cell_type": "markdown",
   "metadata": {},
   "source": [
    "Exercise 9: Write a function to draw a right-triangle using a number as a character.Then, write a program to generate a random number between 1 and 9, call your function with that random number.  The output should look something like this:\n",
    "\n",
    "        base: 5\n",
    "        5\n",
    "        55\n",
    "        555\n",
    "        5555\n",
    "        55555\n",
    "\n",
    "\n",
    "        base: 8\n",
    "        8\n",
    "        88\n",
    "        888\n",
    "        8888\n",
    "        88888\n",
    "        888888\n",
    "        8888888\n",
    "        88888888"
   ]
  },
  {
   "cell_type": "code",
   "execution_count": 44,
   "metadata": {},
   "outputs": [
    {
     "name": "stdout",
     "output_type": "stream",
     "text": [
      "Base: 7\n",
      "7\n",
      "77\n",
      "777\n",
      "7777\n",
      "77777\n",
      "777777\n",
      "7777777\n"
     ]
    }
   ],
   "source": [
    "import random as rand\n",
    "def right_triangle(x):\n",
    "    print(f\"Base: {x}\")\n",
    "    i = 1\n",
    "    while(i <= x):\n",
    "        print(f\"{x}\"* i)\n",
    "        i += 1\n",
    "x = rand.randint(1,9)    \n",
    "right_triangle(x)"
   ]
  },
  {
   "cell_type": "code",
   "execution_count": null,
   "metadata": {},
   "outputs": [],
   "source": []
  },
  {
   "cell_type": "markdown",
   "metadata": {},
   "source": [
    "Exercise 10: Modify function from exercise 9 to show output like this:\n",
    "\n",
    "        base: 5\n",
    "            5\n",
    "           55\n",
    "          555\n",
    "         5555 \n",
    "        55555\n",
    "        \n",
    "        base: 8\n",
    "               8\n",
    "              88\n",
    "             888\n",
    "            8888\n",
    "           88888\n",
    "          888888\n",
    "         8888888\n",
    "        88888888 "
   ]
  },
  {
   "cell_type": "code",
   "execution_count": 60,
   "metadata": {},
   "outputs": [
    {
     "name": "stdout",
     "output_type": "stream",
     "text": [
      "Base: 7\n",
      "      7\n",
      "     77\n",
      "    777\n",
      "   7777\n",
      "  77777\n",
      " 777777\n",
      "7777777\n"
     ]
    }
   ],
   "source": [
    "import random as rand\n",
    "def left_triangle(x):\n",
    "    print(f\"Base: {x}\")\n",
    "    i = 1\n",
    "    j = x-1\n",
    "    while(i <= x):\n",
    "        print(f\" \"*j + f\"{x}\"* i)\n",
    "        i += 1\n",
    "        j -= 1\n",
    "x = rand.randint(1,9)\n",
    "left_triangle(x)"
   ]
  },
  {
   "cell_type": "code",
   "execution_count": null,
   "metadata": {},
   "outputs": [],
   "source": []
  }
 ],
 "metadata": {
  "kernelspec": {
   "display_name": "Python 3",
   "language": "python",
   "name": "python3"
  },
  "language_info": {
   "codemirror_mode": {
    "name": "ipython",
    "version": 3
   },
   "file_extension": ".py",
   "mimetype": "text/x-python",
   "name": "python",
   "nbconvert_exporter": "python",
   "pygments_lexer": "ipython3",
   "version": "3.8.8"
  }
 },
 "nbformat": 4,
 "nbformat_minor": 4
}
