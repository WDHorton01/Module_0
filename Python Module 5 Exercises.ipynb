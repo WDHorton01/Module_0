{
 "cells": [
  {
   "cell_type": "markdown",
   "metadata": {},
   "source": [
    "1. Create a dictionary named pairs with key value pairs of hello and fire, 3 and seven, strong and 45. Print out the dictionary."
   ]
  },
  {
   "cell_type": "code",
   "execution_count": 12,
   "metadata": {},
   "outputs": [
    {
     "name": "stdout",
     "output_type": "stream",
     "text": [
      "{'hello': 'fire', 3: 'seven', 'strong': 45}\n"
     ]
    }
   ],
   "source": [
    "pairs = {\"hello\":\"fire\", 3:\"seven\", \"strong\":45}\n",
    "print(pairs)"
   ]
  },
  {
   "cell_type": "markdown",
   "metadata": {},
   "source": [
    "2. Add welcome and 56 pair into pairs dictionary. Print out the dictionary. "
   ]
  },
  {
   "cell_type": "code",
   "execution_count": 13,
   "metadata": {},
   "outputs": [
    {
     "name": "stdout",
     "output_type": "stream",
     "text": [
      "{'hello': 'fire', 3: 'seven', 'strong': 45, 'welcome': 56}\n"
     ]
    }
   ],
   "source": [
    "pairs[\"welcome\"] = 56\n",
    "print(pairs)"
   ]
  },
  {
   "cell_type": "markdown",
   "metadata": {},
   "source": [
    "3. Delete one item from the Dictionary. Print deleted item and the dictionary."
   ]
  },
  {
   "cell_type": "code",
   "execution_count": 15,
   "metadata": {},
   "outputs": [
    {
     "name": "stdout",
     "output_type": "stream",
     "text": [
      "fire\n",
      "{3: 'seven', 'strong': 45, 'welcome': 56}\n"
     ]
    }
   ],
   "source": [
    "delete = pairs.pop('hello')\n",
    "print(delete)\n",
    "print(pairs)"
   ]
  },
  {
   "cell_type": "markdown",
   "metadata": {},
   "source": [
    "4. Print the value of an item where key is 3 from the dicitonary"
   ]
  },
  {
   "cell_type": "code",
   "execution_count": 11,
   "metadata": {},
   "outputs": [
    {
     "name": "stdout",
     "output_type": "stream",
     "text": [
      "seven\n"
     ]
    }
   ],
   "source": [
    "print(pairs[3])"
   ]
  },
  {
   "cell_type": "markdown",
   "metadata": {},
   "source": [
    "5. Try to find out if the key called hello exist. Print out the key is found if it is there otherwise print out the key is not there."
   ]
  },
  {
   "cell_type": "code",
   "execution_count": 18,
   "metadata": {},
   "outputs": [
    {
     "data": {
      "text/plain": [
       "False"
      ]
     },
     "execution_count": 18,
     "metadata": {},
     "output_type": "execute_result"
    }
   ],
   "source": [
    "'hello' in pairs"
   ]
  },
  {
   "cell_type": "markdown",
   "metadata": {},
   "source": [
    "6. Loop through the dictionary and print out each value. "
   ]
  },
  {
   "cell_type": "code",
   "execution_count": 19,
   "metadata": {},
   "outputs": [
    {
     "name": "stdout",
     "output_type": "stream",
     "text": [
      "seven\n",
      "45\n",
      "56\n"
     ]
    }
   ],
   "source": [
    "for i in pairs:\n",
    "    print(pairs[i])"
   ]
  },
  {
   "cell_type": "markdown",
   "metadata": {},
   "source": [
    "7. Loop through the dictionary and print out each key."
   ]
  },
  {
   "cell_type": "code",
   "execution_count": 20,
   "metadata": {},
   "outputs": [
    {
     "name": "stdout",
     "output_type": "stream",
     "text": [
      "3\n",
      "strong\n",
      "welcome\n"
     ]
    }
   ],
   "source": [
    "for i in pairs:\n",
    "    print(i)"
   ]
  },
  {
   "cell_type": "markdown",
   "metadata": {},
   "source": [
    "8. Loop through the dictionary and print out each key and value pair. "
   ]
  },
  {
   "cell_type": "code",
   "execution_count": 21,
   "metadata": {},
   "outputs": [
    {
     "name": "stdout",
     "output_type": "stream",
     "text": [
      "3 - seven\n",
      "strong - 45\n",
      "welcome - 56\n"
     ]
    }
   ],
   "source": [
    "for i in pairs:\n",
    "    print(f\"{i} - {pairs[i]}\")"
   ]
  },
  {
   "cell_type": "markdown",
   "metadata": {},
   "source": [
    "9. Make a nested dictionary called parent with 2 children's information: name, age, gender. Print out parent."
   ]
  },
  {
   "cell_type": "code",
   "execution_count": 22,
   "metadata": {},
   "outputs": [
    {
     "name": "stdout",
     "output_type": "stream",
     "text": [
      "{'child 1': {'Name': 'Phineas', 'age': '13', 'gender': 'M'}, 'child 2': {'Name': 'Candace', 'age': '16', 'gender': 'F'}}\n"
     ]
    }
   ],
   "source": [
    "parent = {\"child 1\":{\"Name\":\"Phineas\", \"age\":\"13\", \"gender\":\"M\"}, \"child 2\":{\"Name\":\"Candace\", \"age\":\"16\", \"gender\":\"F\"}}\n",
    "print(parent)"
   ]
  },
  {
   "cell_type": "markdown",
   "metadata": {},
   "source": [
    "10. Add new child to above dictionary. Print out the name of all children."
   ]
  },
  {
   "cell_type": "code",
   "execution_count": 25,
   "metadata": {},
   "outputs": [
    {
     "name": "stdout",
     "output_type": "stream",
     "text": [
      "Phineas\n",
      "Candace\n",
      "Ferb\n"
     ]
    }
   ],
   "source": [
    "parent[\"child 3\"] = {\"Name\":\"Ferb\", \"age\":\"13\", \"gender\":\"M\"}\n",
    "for i in parent:\n",
    "    print(parent[i][\"Name\"])"
   ]
  },
  {
   "cell_type": "markdown",
   "metadata": {},
   "source": [
    "11. Create a Test Scores program that gets the name of students and test score from a user. Then, generate a list of students who passed and a list of students who failed where passing test score is 60 or above. "
   ]
  },
  {
   "cell_type": "code",
   "execution_count": 15,
   "metadata": {},
   "outputs": [
    {
     "name": "stdout",
     "output_type": "stream",
     "text": [
      "enter the students name: dan\n",
      "Enter the students score: 60\n",
      "enter to continue, type 'n' to quit. y\n",
      "enter the students name: marg\n",
      "Enter the students score: 59\n",
      "enter to continue, type 'n' to quit. y\n",
      "enter the students name: tim\n",
      "Enter the students score: 86\n",
      "enter to continue, type 'n' to quit. \n",
      "enter the students name: bo\n",
      "Enter the students score: 34\n",
      "enter to continue, type 'n' to quit. n\n",
      "passed: {'dan': 60.0, 'tim': 86.0}\n",
      "failed: {'marg': 59.0, 'bo': 34.0}\n"
     ]
    }
   ],
   "source": [
    "passed = {}\n",
    "failed = {}\n",
    "x = 'y'\n",
    "while x != 'n':\n",
    "    name = input(\"enter the students name: \")\n",
    "    score = float(input(\"Enter the students score: \"))\n",
    "    if score >= 60:\n",
    "        passed[name] = score\n",
    "    else:\n",
    "        failed[name] = score\n",
    "    x = input(\"enter to continue, type 'n' to quit. \")\n",
    "print(f\"passed: {passed}\")\n",
    "print(f\"failed: {failed}\")"
   ]
  },
  {
   "cell_type": "markdown",
   "metadata": {},
   "source": [
    "12. Create a Word Counter program that gets a string of text from a user and then counts the number of times a word occrs in the string. \n",
    "\n",
    "The output should look something like this:\n",
    "\n",
    "    The Word Counter Program\n",
    "    \n",
    "    Enter a text string: \n",
    "    Humpty Dumpty sat on a wall, Humpty Dumpty had a great fall. All the king’s horses and all the king’s men couldn’t put Humpty together again.\n",
    "\n",
    "    a : 2\n",
    "    again : 1\n",
    "    all : 2\n",
    "    and : 1\n",
    "    couldn’t : 1\n",
    "    dumpty : 2\n",
    "    fall : 1\n",
    "    great : 1\n",
    "    had : 1\n",
    "    horses : 1\n",
    "    humpty : 3\n",
    "    king’s : 2\n",
    "    men : 1\n",
    "    on : 1\n",
    "    put : 1\n",
    "    sat : 1\n",
    "    the : 2\n",
    "    together : 1\n",
    "    wall : 1\n",
    "\n",
    "    There were total 26 words in the text string   "
   ]
  },
  {
   "cell_type": "code",
   "execution_count": 29,
   "metadata": {},
   "outputs": [
    {
     "name": "stdout",
     "output_type": "stream",
     "text": [
      "Enter the string: Humpty Dumpty sat on a wall, Humpty Dumpty had a great fall. All the king’s horses and all the king’s men couldn’t put Humpty together again.\n",
      "a : 2\n",
      "again : 1\n",
      "all : 2\n",
      "and : 1\n",
      "couldn’t : 1\n",
      "dumpty : 2\n",
      "fall : 1\n",
      "great : 1\n",
      "had : 1\n",
      "horses : 1\n",
      "humpty : 3\n",
      "king’s : 2\n",
      "men : 1\n",
      "on : 1\n",
      "put : 1\n",
      "sat : 1\n",
      "the : 2\n",
      "together : 1\n",
      "wall : 1\n",
      "\n",
      "There were total 26 words in the text string \n"
     ]
    }
   ],
   "source": [
    "Word_count = {}\n",
    "punc = '!@#$%^&*()-_=+`~\\|]}[{;:,<.>/?\"'\n",
    "String = input(\"Enter the string: \")\n",
    "String = String.lower()\n",
    "\n",
    "for i in String:\n",
    "    if i in punc:\n",
    "        String = String.replace(i,'')\n",
    "\n",
    "String = String.split()\n",
    "String.sort()\n",
    "\n",
    "for i in String:\n",
    "    if i not in Word_count:\n",
    "        Word_count[i] = 0\n",
    "    Word_count[i] += 1\n",
    "\n",
    "total = int(0)\n",
    "\n",
    "for i in Word_count:\n",
    "    print(f\"{i} : {Word_count[i]}\")\n",
    "    total = total + Word_count[i]\n",
    "\n",
    "print(f\"\\nThere were total {total} words in the text string \")"
   ]
  },
  {
   "cell_type": "code",
   "execution_count": null,
   "metadata": {},
   "outputs": [],
   "source": []
  }
 ],
 "metadata": {
  "kernelspec": {
   "display_name": "Python 3",
   "language": "python",
   "name": "python3"
  },
  "language_info": {
   "codemirror_mode": {
    "name": "ipython",
    "version": 3
   },
   "file_extension": ".py",
   "mimetype": "text/x-python",
   "name": "python",
   "nbconvert_exporter": "python",
   "pygments_lexer": "ipython3",
   "version": "3.8.8"
  }
 },
 "nbformat": 4,
 "nbformat_minor": 4
}
