{
 "cells": [
  {
   "cell_type": "code",
   "execution_count": 21,
   "id": "8a360bec",
   "metadata": {},
   "outputs": [
    {
     "name": "stdout",
     "output_type": "stream",
     "text": [
      "Please enter rock, paper or scissors: rock\n",
      "Its a draw!\n",
      "type 'y' to play again or 'n' to quit: rock\n",
      "the final score is 0 to 0\n",
      "Its a draw... this time!\n"
     ]
    }
   ],
   "source": [
    "import random as rand\n",
    "\n",
    "x = 'y'\n",
    "P1_score = int(0)\n",
    "AI_score = int(0)\n",
    "\n",
    "while x == 'y':\n",
    "    shoot = input(\"Please enter rock, paper or scissors: \")\n",
    "    y = rand.randint(0,2)\n",
    "    if(y == 0):\n",
    "        AI_shoot = \"rock\"\n",
    "    elif(y == 1):\n",
    "        AI_shoot = \"paper\"\n",
    "    else:\n",
    "        AI_shoot = \"scissors\"\n",
    "    \n",
    "    if shoot.lower() == \"rock\":\n",
    "        if AI_shoot == \"scissors\":\n",
    "            print(\"Congradulations you win!\")\n",
    "            P1_score += 1\n",
    "        elif AI_shoot == \"paper\":\n",
    "            print(\"Too bad you lose!\")\n",
    "            AI_score += 1\n",
    "        else:\n",
    "            print(\"Its a draw!\")\n",
    "        \n",
    "    elif shoot.lower() == \"paper\":\n",
    "        if AI_shoot == \"rock\":\n",
    "            print(\"Congradulations you win!\")\n",
    "            P1_score += 1\n",
    "        elif AI_shoot == \"scissors\":\n",
    "            print(\"Too bad you lose!\")\n",
    "            AI_score += 1\n",
    "        else:\n",
    "            print(\"Its a draw!\")\n",
    "        \n",
    "    elif shoot.lower() == \"scissors\":\n",
    "        if AI_shoot == \"paper\":\n",
    "            print(\"Congradulations you win!\")\n",
    "            P1_score += 1\n",
    "        elif AI_shoot == \"rock\":\n",
    "            print(\"Too bad you lose!\")\n",
    "            AI_score += 1\n",
    "        else:\n",
    "            print(\"Its a draw!\")\n",
    "    \n",
    "    else:\n",
    "        print(\"invalid entry try again.\")\n",
    "        \n",
    "    x = input(\"type 'y' to play again or 'n' to quit: \")\n",
    "    \n",
    "print(f\"the final score is {P1_score} to {AI_score}\")\n",
    "if P1_score > AI_score:\n",
    "    print(\"Good job you win! I'll get you next time!\")\n",
    "elif P1_score < AI_score:\n",
    "    print(\"Too bad you lose! I told you computers are superior!\")\n",
    "else:\n",
    "    print(\"Its a draw... this time!\")"
   ]
  },
  {
   "cell_type": "code",
   "execution_count": null,
   "id": "2c13eea2",
   "metadata": {},
   "outputs": [],
   "source": []
  },
  {
   "cell_type": "code",
   "execution_count": null,
   "id": "8e520f30",
   "metadata": {},
   "outputs": [],
   "source": []
  }
 ],
 "metadata": {
  "kernelspec": {
   "display_name": "Python 3",
   "language": "python",
   "name": "python3"
  },
  "language_info": {
   "codemirror_mode": {
    "name": "ipython",
    "version": 3
   },
   "file_extension": ".py",
   "mimetype": "text/x-python",
   "name": "python",
   "nbconvert_exporter": "python",
   "pygments_lexer": "ipython3",
   "version": "3.8.8"
  }
 },
 "nbformat": 4,
 "nbformat_minor": 5
}
